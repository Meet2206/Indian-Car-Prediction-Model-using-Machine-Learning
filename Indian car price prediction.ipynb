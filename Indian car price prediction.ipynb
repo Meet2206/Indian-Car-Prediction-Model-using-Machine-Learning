{
 "cells": [
  {
   "cell_type": "code",
   "execution_count": null,
   "id": "198a28a5",
   "metadata": {
    "vscode": {
     "languageId": "plaintext"
    }
   },
   "outputs": [],
   "source": [
    "import pandas as pd\n",
    "import numpy as np\n",
    "from sklearn.model_selection import train_test_split\n",
    "from sklearn.preprocessing import LabelEncoder\n",
    "from sklearn.ensemble import RandomForestRegressor\n",
    "from sklearn.metrics import mean_absolute_error, r2_score\n"
   ]
  },
  {
   "cell_type": "code",
   "execution_count": null,
   "id": "d7907b19",
   "metadata": {
    "vscode": {
     "languageId": "plaintext"
    }
   },
   "outputs": [],
   "source": []
  },
  {
   "cell_type": "code",
   "execution_count": null,
   "id": "7bb9c366-2810-4cba-9323-cfda636f1157",
   "metadata": {},
   "outputs": [],
   "source": [
    "# Load your dataset\n",
    "df = pd.read_csv(\"Car Sell Dataset.csv\", low_memory=False)\n",
    "\n",
    "\n",
    "# Quick check\n",
    "print(df.head())\n"
   ]
  },
  {
   "cell_type": "code",
   "execution_count": null,
   "id": "2c1a6117-d148-4615-bd29-88e0f8921789",
   "metadata": {},
   "outputs": [],
   "source": [
    "# Calculate depreciation percentage\n",
    "# Convert to numeric, turn invalid values into NaN\n",
    "df[\"New Car Price\"] = pd.to_numeric(df[\"New Car Price\"], errors=\"coerce\")\n",
    "df[\"Depreciated Price\"] = pd.to_numeric(df[\"Depreciated Price\"], errors=\"coerce\")\n",
    "\n",
    "# Now calculate depreciation\n",
    "df[\"Depreciation %\"] = ((df[\"New Car Price\"] - df[\"Depreciated Price\"]) / df[\"New Car Price\"]) * 100\n",
    "\n",
    "\n",
    "# Select features\n",
    "features = [\n",
    "    \"Brand\", \"Model Name\", \"Model Variant\", \"Car Type\",\n",
    "    \"Transmission\", \"Fuel Type\", \"Year\", \"Kilometers\",\n",
    "    \"Owner\", \"State\", \"Accidental\", \"Insurance Price\"\n",
    "]\n",
    "\n",
    "target = \"Depreciated Price\"\n"
   ]
  },
  {
   "cell_type": "code",
   "execution_count": null,
   "id": "83ebbab9-16dc-469b-827f-8fe85cdb3fdf",
   "metadata": {},
   "outputs": [],
   "source": [
    "df_encoded = df.copy()\n",
    "label_encoders = {}\n",
    "\n",
    "for col in df_encoded[features].select_dtypes(include=[\"object\"]).columns:\n",
    "    le = LabelEncoder()\n",
    "    df_encoded[col] = le.fit_transform(df_encoded[col].astype(str))\n",
    "    label_encoders[col] = le\n"
   ]
  },
  {
   "cell_type": "code",
   "execution_count": null,
   "id": "4ae9f6e2-0795-4393-9cdf-cc79f7b61925",
   "metadata": {},
   "outputs": [],
   "source": [
    "X = df_encoded[features]\n",
    "y = df_encoded[target]\n",
    "\n",
    "X_train, X_test, y_train, y_test = train_test_split(\n",
    "    X, y, test_size=0.2, random_state=42\n",
    ")\n"
   ]
  },
  {
   "cell_type": "code",
   "execution_count": null,
   "id": "f39ed325-eaa0-484f-b47c-db85985a96b5",
   "metadata": {},
   "outputs": [],
   "source": [
    "model = RandomForestRegressor(n_estimators=200, random_state=42)\n",
    "model.fit(X_train, y_train)\n"
   ]
  },
  {
   "cell_type": "code",
   "execution_count": null,
   "id": "4b8d62bb-ea21-4415-9849-93bfd727aadf",
   "metadata": {},
   "outputs": [],
   "source": [
    "# Predict\n",
    "y_pred = model.predict(X_test)\n",
    "\n",
    "# Check for NaN in y_test or y_pred\n",
    "print(\"NaNs in y_test:\", np.isnan(y_test).sum())\n",
    "print(\"NaNs in y_pred:\", np.isnan(y_pred).sum())\n",
    "\n",
    "# Drop NaNs just in case (aligns both arrays)\n",
    "mask = ~np.isnan(y_test) & ~np.isnan(y_pred)\n",
    "y_test_clean = y_test[mask]\n",
    "y_pred_clean = y_pred[mask]\n",
    "\n",
    "# Evaluation metrics\n",
    "print(\"MAE:\", mean_absolute_error(y_test_clean, y_pred_clean))\n",
    "print(\"R² Score:\", r2_score(y_test_clean, y_pred_clean))"
   ]
  },
  {
   "cell_type": "code",
   "execution_count": null,
   "id": "dd24ba10-b10f-4319-9467-abb830c1def9",
   "metadata": {},
   "outputs": [],
   "source": [
    "import matplotlib.pyplot as plt\n",
    "\n",
    "plt.figure(figsize=(8,6))\n",
    "plt.scatter(y_test_clean, y_pred_clean, alpha=0.5)\n",
    "plt.plot([y_test_clean.min(), y_test_clean.max()],\n",
    "         [y_test_clean.min(), y_test_clean.max()],\n",
    "         'r--', lw=2)  # ideal line\n",
    "plt.xlabel(\"Actual Depreciated Price\")\n",
    "plt.ylabel(\"Predicted Depreciated Price\")\n",
    "plt.title(\"Actual vs Predicted Car Prices\")\n",
    "plt.show()\n"
   ]
  },
  {
   "cell_type": "code",
   "execution_count": null,
   "id": "11460e70-7d29-4d08-8267-44e0413d400e",
   "metadata": {},
   "outputs": [],
   "source": [
    "import matplotlib.pyplot as plt\n",
    "\n",
    "# Count of cars per Brand\n",
    "top_brands = brand_counts[:5]\n",
    "others = brand_counts[5:].sum()\n",
    "top_brands[\"Others\"] = others\n",
    "\n",
    "plt.pie(top_brands, labels=top_brands.index, autopct='%1.1f%%', startangle=140)\n",
    "plt.title(\"Top 5 Car Brands + Others\")\n",
    "plt.show()\n",
    "\n"
   ]
  },
  {
   "cell_type": "code",
   "execution_count": null,
   "id": "cf2c9aa6-0942-4242-b3b7-9f39e4d5e37e",
   "metadata": {},
   "outputs": [],
   "source": [
    "# Prepare data\n",
    "fuel_counts = df[\"Fuel Type\"].value_counts()\n",
    "trans_counts = df[\"Transmission\"].value_counts()\n",
    "accidental_counts = df[\"Accidental\"].value_counts()\n",
    "\n",
    "# Create subplots\n",
    "fig, axes = plt.subplots(1, 3, figsize=(20, 6))\n",
    "\n",
    "# Fuel Type Pie\n",
    "axes[0].pie(fuel_counts, labels=fuel_counts.index, autopct='%1.1f%%', startangle=140)\n",
    "axes[0].set_title(\"Cars by Fuel Type\")\n",
    "\n",
    "# Transmission Pie\n",
    "axes[1].pie(trans_counts, labels=trans_counts.index, autopct='%1.1f%%', startangle=140)\n",
    "axes[1].set_title(\"Cars by Transmission\")\n",
    "\n",
    "# Accidental Pie\n",
    "axes[2].pie(accidental_counts, labels=accidental_counts.index, autopct='%1.1f%%', startangle=140)\n",
    "axes[2].set_title(\"Accidental vs Non-Accidental\")\n",
    "\n",
    "# Display\n",
    "plt.tight_layout()\n",
    "plt.show()"
   ]
  }
 ],
 "metadata": {
  "kernelspec": {
   "display_name": "Python 3 (ipykernel)",
   "language": "python",
   "name": "python3"
  },
  "language_info": {
   "codemirror_mode": {
    "name": "ipython",
    "version": 3
   },
   "file_extension": ".py",
   "mimetype": "text/x-python",
   "name": "python",
   "nbconvert_exporter": "python",
   "pygments_lexer": "ipython3",
   "version": "3.13.2"
  }
 },
 "nbformat": 4,
 "nbformat_minor": 5
}
